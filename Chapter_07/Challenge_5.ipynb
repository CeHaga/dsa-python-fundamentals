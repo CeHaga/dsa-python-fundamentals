{
  "nbformat": 4,
  "nbformat_minor": 0,
  "metadata": {
    "kernelspec": {
      "display_name": "Python 3",
      "language": "python",
      "name": "python3"
    },
    "language_info": {
      "codemirror_mode": {
        "name": "ipython",
        "version": 3
      },
      "file_extension": ".py",
      "mimetype": "text/x-python",
      "name": "python",
      "nbconvert_exporter": "python",
      "pygments_lexer": "ipython3",
      "version": "3.7.6"
    },
    "colab": {
      "name": "Challenge_5.ipynb",
      "provenance": [],
      "toc_visible": true,
      "include_colab_link": true
    }
  },
  "cells": [
    {
      "cell_type": "markdown",
      "metadata": {
        "id": "view-in-github",
        "colab_type": "text"
      },
      "source": [
        "<a href=\"https://colab.research.google.com/github/CeHaga/dsa-python-challenge7.5/blob/main/Challenge_5.ipynb\" target=\"_parent\"><img src=\"https://colab.research.google.com/assets/colab-badge.svg\" alt=\"Open In Colab\"/></a>"
      ]
    },
    {
      "cell_type": "markdown",
      "metadata": {
        "id": "RPogSj_5FpYP"
      },
      "source": [
        "#Python Fundamentals for Data Analysis - Chapter 7 - Challenge 5\n",
        "\n",
        "Solutions made by Carlos Bravo, text from challenge made by Data Science Academy (https://www.datascienceacademy.com.br/path-player?courseid=python-fundamentos&unit=5ae359f35e4cded1908b456cUnit)"
      ]
    },
    {
      "cell_type": "code",
      "metadata": {
        "id": "cbjP9ZXjFpYa",
        "colab": {
          "base_uri": "https://localhost:8080/"
        },
        "outputId": "6b05ddb1-ef51-43aa-bdb5-06aba63a834e"
      },
      "source": [
        "# Versão da Linguagem Python\n",
        "from platform import python_version\n",
        "print('Versão da Linguagem Python Usada Neste Jupyter Notebook:', python_version())"
      ],
      "execution_count": 1,
      "outputs": [
        {
          "output_type": "stream",
          "text": [
            "Versão da Linguagem Python Usada Neste Jupyter Notebook: 3.6.9\n"
          ],
          "name": "stdout"
        }
      ]
    },
    {
      "cell_type": "markdown",
      "metadata": {
        "id": "3oRwFUazFpYb"
      },
      "source": [
        "## Missão: Analisar o Comportamento de Compra de Consumidores."
      ]
    },
    {
      "cell_type": "markdown",
      "metadata": {
        "id": "LlvQIv03FpYc"
      },
      "source": [
        "## Nível de Dificuldade: Alto"
      ]
    },
    {
      "cell_type": "markdown",
      "metadata": {
        "id": "cXSwYOhKFpYc"
      },
      "source": [
        "Você recebeu a tarefa de analisar os dados de compras de um web site! Os dados estão no formato JSON e disponíveis junto com este notebook.\n",
        "\n",
        "No site, cada usuário efetua login usando sua conta pessoal e pode adquirir produtos à medida que navega pela lista de produtos oferecidos. Cada produto possui um valor de venda. Dados de idade e sexo de cada usuário foram coletados e estão fornecidos no arquivo JSON.\n",
        "\n",
        "Seu trabalho é entregar uma análise de comportamento de compra dos consumidores. Esse é um tipo de atividade comum realizado por Cientistas de Dados e o resultado deste trabalho pode ser usado, por exemplo, para alimentar um modelo de Machine Learning e fazer previsões sobre comportamentos futuros.\n",
        "\n",
        "Mas nesta missão você vai analisar o comportamento de compra dos consumidores usando o pacote Pandas da linguagem Python e seu relatório final deve incluir cada um dos seguintes itens:\n",
        "\n",
        "** Contagem de Consumidores **\n",
        "\n",
        "* Número total de consumidores\n",
        "\n",
        "\n",
        "** Análise Geral de Compras **\n",
        "\n",
        "* Número de itens exclusivos\n",
        "* Preço médio de compra\n",
        "* Número total de compras\n",
        "* Rendimento total\n",
        "\n",
        "\n",
        "** Informações Demográficas Por Gênero **\n",
        "\n",
        "* Porcentagem e contagem de compradores masculinos\n",
        "* Porcentagem e contagem de compradores do sexo feminino\n",
        "* Porcentagem e contagem de outros / não divulgados\n",
        "\n",
        "\n",
        "** Análise de Compras Por Gênero **\n",
        "\n",
        "* Número de compras\n",
        "* Preço médio de compra\n",
        "* Valor Total de Compra\n",
        "* Compras for faixa etária\n",
        "\n",
        "\n",
        "** Identifique os 5 principais compradores pelo valor total de compra e, em seguida, liste (em uma tabela): **\n",
        "\n",
        "* Login\n",
        "* Número de compras\n",
        "* Preço médio de compra\n",
        "* Valor Total de Compra\n",
        "* Itens mais populares\n",
        "\n",
        "\n",
        "** Identifique os 5 itens mais populares por contagem de compras e, em seguida, liste (em uma tabela): **\n",
        "\n",
        "* ID do item\n",
        "* Nome do item\n",
        "* Número de compras\n",
        "* Preço do item\n",
        "* Valor Total de Compra\n",
        "* Itens mais lucrativos\n",
        "\n",
        "\n",
        "** Identifique os 5 itens mais lucrativos pelo valor total de compra e, em seguida, liste (em uma tabela): **\n",
        "\n",
        "* ID do item\n",
        "* Nome do item\n",
        "* Número de compras\n",
        "* Preço do item\n",
        "* Valor Total de Compra\n",
        "\n",
        "\n",
        "** Como considerações finais: **\n",
        "\n",
        "* Seu script deve funcionar para o conjunto de dados fornecido.\n",
        "* Você deve usar a Biblioteca Pandas e o Jupyter Notebook.\n"
      ]
    },
    {
      "cell_type": "code",
      "metadata": {
        "collapsed": true,
        "id": "67CImcegFpYd"
      },
      "source": [
        "# Imports\n",
        "import pandas as pd\n",
        "import numpy as np"
      ],
      "execution_count": 2,
      "outputs": []
    },
    {
      "cell_type": "code",
      "metadata": {
        "id": "Vf0IuvCKFpYe",
        "colab": {
          "base_uri": "https://localhost:8080/",
          "height": 204
        },
        "outputId": "67e61f18-9a8e-47d2-92ff-1fbf27c9806e"
      },
      "source": [
        "# Carrega o arquivo\n",
        "load_file = \"https://raw.githubusercontent.com/dsacademybr/PythonFundamentos/master/Cap07/DesafioDSA/Missao5/dados_compras.json\"\n",
        "planilha = pd.read_json(load_file, orient = \"records\")\n",
        "planilha.head()"
      ],
      "execution_count": 3,
      "outputs": [
        {
          "output_type": "execute_result",
          "data": {
            "text/html": [
              "<div>\n",
              "<style scoped>\n",
              "    .dataframe tbody tr th:only-of-type {\n",
              "        vertical-align: middle;\n",
              "    }\n",
              "\n",
              "    .dataframe tbody tr th {\n",
              "        vertical-align: top;\n",
              "    }\n",
              "\n",
              "    .dataframe thead th {\n",
              "        text-align: right;\n",
              "    }\n",
              "</style>\n",
              "<table border=\"1\" class=\"dataframe\">\n",
              "  <thead>\n",
              "    <tr style=\"text-align: right;\">\n",
              "      <th></th>\n",
              "      <th>Login</th>\n",
              "      <th>Idade</th>\n",
              "      <th>Sexo</th>\n",
              "      <th>Item ID</th>\n",
              "      <th>Nome do Item</th>\n",
              "      <th>Valor</th>\n",
              "    </tr>\n",
              "  </thead>\n",
              "  <tbody>\n",
              "    <tr>\n",
              "      <th>0</th>\n",
              "      <td>Aelalis34</td>\n",
              "      <td>38</td>\n",
              "      <td>Masculino</td>\n",
              "      <td>165</td>\n",
              "      <td>Bone Crushing Silver Skewer</td>\n",
              "      <td>3.37</td>\n",
              "    </tr>\n",
              "    <tr>\n",
              "      <th>1</th>\n",
              "      <td>Eolo46</td>\n",
              "      <td>21</td>\n",
              "      <td>Masculino</td>\n",
              "      <td>119</td>\n",
              "      <td>Stormbringer, Dark Blade of Ending Misery</td>\n",
              "      <td>2.32</td>\n",
              "    </tr>\n",
              "    <tr>\n",
              "      <th>2</th>\n",
              "      <td>Assastnya25</td>\n",
              "      <td>34</td>\n",
              "      <td>Masculino</td>\n",
              "      <td>174</td>\n",
              "      <td>Primitive Blade</td>\n",
              "      <td>2.46</td>\n",
              "    </tr>\n",
              "    <tr>\n",
              "      <th>3</th>\n",
              "      <td>Pheusrical25</td>\n",
              "      <td>21</td>\n",
              "      <td>Masculino</td>\n",
              "      <td>92</td>\n",
              "      <td>Final Critic</td>\n",
              "      <td>1.36</td>\n",
              "    </tr>\n",
              "    <tr>\n",
              "      <th>4</th>\n",
              "      <td>Aela59</td>\n",
              "      <td>23</td>\n",
              "      <td>Masculino</td>\n",
              "      <td>63</td>\n",
              "      <td>Stormfury Mace</td>\n",
              "      <td>1.27</td>\n",
              "    </tr>\n",
              "  </tbody>\n",
              "</table>\n",
              "</div>"
            ],
            "text/plain": [
              "          Login  Idade  ...                               Nome do Item  Valor\n",
              "0     Aelalis34     38  ...                Bone Crushing Silver Skewer   3.37\n",
              "1        Eolo46     21  ...  Stormbringer, Dark Blade of Ending Misery   2.32\n",
              "2   Assastnya25     34  ...                            Primitive Blade   2.46\n",
              "3  Pheusrical25     21  ...                               Final Critic   1.36\n",
              "4        Aela59     23  ...                             Stormfury Mace   1.27\n",
              "\n",
              "[5 rows x 6 columns]"
            ]
          },
          "metadata": {
            "tags": []
          },
          "execution_count": 3
        }
      ]
    },
    {
      "cell_type": "markdown",
      "metadata": {
        "id": "klU_Eo0QFpYe"
      },
      "source": [
        "## Informações Sobre os Consumidores"
      ]
    },
    {
      "cell_type": "code",
      "metadata": {
        "collapsed": true,
        "id": "Q6UkVMK9FpYe",
        "colab": {
          "base_uri": "https://localhost:8080/"
        },
        "outputId": "212ea7de-10f1-41b2-bd1d-3cf2694e4406"
      },
      "source": [
        "consumidores_unicos = len(planilha['Login'].unique())\n",
        "print('Há ' + str(consumidores_unicos) + ' consumidores')"
      ],
      "execution_count": 4,
      "outputs": [
        {
          "output_type": "stream",
          "text": [
            "Há 573 consumidores\n"
          ],
          "name": "stdout"
        }
      ]
    },
    {
      "cell_type": "markdown",
      "metadata": {
        "id": "8yZPDKT9FpYf"
      },
      "source": [
        "## Análise Geral de Compras"
      ]
    },
    {
      "cell_type": "code",
      "metadata": {
        "collapsed": true,
        "id": "ALWN8Ry6FpYf",
        "colab": {
          "base_uri": "https://localhost:8080/"
        },
        "outputId": "173d9746-69a1-4fb9-922e-8553603725eb"
      },
      "source": [
        "itens_unicos = len(planilha['Nome do Item'].unique())\n",
        "print('Há ' +str(itens_unicos) + ' itens exclusivos')"
      ],
      "execution_count": 5,
      "outputs": [
        {
          "output_type": "stream",
          "text": [
            "Há 179 itens exclusivos\n"
          ],
          "name": "stdout"
        }
      ]
    },
    {
      "cell_type": "code",
      "metadata": {
        "id": "9dPPd2l0HnKi",
        "colab": {
          "base_uri": "https://localhost:8080/"
        },
        "outputId": "5d9af1ef-8b28-4f39-9a8f-947d21ee19fc"
      },
      "source": [
        "preco_medio = planilha['Valor'].mean(axis=0)\n",
        "print(f'O preço médio é: R$%.2f' % (preco_medio))"
      ],
      "execution_count": 6,
      "outputs": [
        {
          "output_type": "stream",
          "text": [
            "O preço médio é: R$2.93\n"
          ],
          "name": "stdout"
        }
      ]
    },
    {
      "cell_type": "code",
      "metadata": {
        "id": "3ufVLmnoIb9Z",
        "colab": {
          "base_uri": "https://localhost:8080/"
        },
        "outputId": "323445e1-c81f-4790-de94-a41e2aec8cca"
      },
      "source": [
        "total_compras = len(planilha)\n",
        "print(f'Houve '+str(total_compras)+' compras')"
      ],
      "execution_count": 7,
      "outputs": [
        {
          "output_type": "stream",
          "text": [
            "Houve 780 compras\n"
          ],
          "name": "stdout"
        }
      ]
    },
    {
      "cell_type": "code",
      "metadata": {
        "id": "Na_iaZuHI57y",
        "colab": {
          "base_uri": "https://localhost:8080/"
        },
        "outputId": "9ba3aae4-32ce-43cb-97a4-7d49834e5d33"
      },
      "source": [
        "total_vendas = sum(planilha['Valor'])\n",
        "print(f'O rendimento total é R$%.2f' % total_vendas)"
      ],
      "execution_count": 8,
      "outputs": [
        {
          "output_type": "stream",
          "text": [
            "O rendimento total é R$2286.33\n"
          ],
          "name": "stdout"
        }
      ]
    },
    {
      "cell_type": "markdown",
      "metadata": {
        "id": "MedMeW_CFpYg"
      },
      "source": [
        "## Informações Demográficas Por Gênero"
      ]
    },
    {
      "cell_type": "code",
      "metadata": {
        "collapsed": true,
        "id": "sVeeIn0lFpYg",
        "outputId": "805cdbe9-56df-4ff8-eda4-e6ebac850e92",
        "colab": {
          "base_uri": "https://localhost:8080/"
        }
      },
      "source": [
        "cont_por_sexo = planilha[['Login','Sexo']].drop_duplicates()['Sexo'].value_counts()\n",
        "total = sum(cont_por_sexo)\n",
        "print(f'%.2f%% (%d) compradores do sexo masculino' % (cont_por_sexo['Masculino']/total*100, cont_por_sexo['Masculino']))\n",
        "print(f'%.2f%% (%d) compradores do sexo feminino' % (cont_por_sexo['Feminino']/total*100, cont_por_sexo['Feminino']))\n",
        "print(f'%.2f%% (%d) compradores do sexo outros/não divulgados' % (cont_por_sexo['Outro / Não Divulgado']/total*100, cont_por_sexo['Outro / Não Divulgado']))"
      ],
      "execution_count": 9,
      "outputs": [
        {
          "output_type": "stream",
          "text": [
            "81.15% (465) compradores do sexo masculino\n",
            "17.45% (100) compradores do sexo feminino\n",
            "1.40% (8) compradores do sexo outros/não divulgados\n"
          ],
          "name": "stdout"
        }
      ]
    },
    {
      "cell_type": "markdown",
      "metadata": {
        "id": "FPacg9Q6FpYg"
      },
      "source": [
        "## Análise de Compras Por Gênero"
      ]
    },
    {
      "cell_type": "code",
      "metadata": {
        "id": "9GbC1cP4K_Go",
        "outputId": "f297376b-e3b4-4665-b85f-044b4e933c47",
        "colab": {
          "base_uri": "https://localhost:8080/"
        }
      },
      "source": [
        "qtd_por_sexo = planilha.groupby(['Sexo']).count()['Valor']\n",
        "print(f'Clientes do sexo masculino compraram %d produtos' % qtd_por_sexo['Masculino'])\n",
        "print(f'Clientes do sexo feminino compraram %d produtos' % qtd_por_sexo['Feminino'])\n",
        "print(f'Clientes do sexo outros / não divulgado compraram %d produtos' % qtd_por_sexo['Outro / Não Divulgado'])"
      ],
      "execution_count": 10,
      "outputs": [
        {
          "output_type": "stream",
          "text": [
            "Clientes do sexo masculino compraram 633 produtos\n",
            "Clientes do sexo feminino compraram 136 produtos\n",
            "Clientes do sexo outros / não divulgado compraram 11 produtos\n"
          ],
          "name": "stdout"
        }
      ]
    },
    {
      "cell_type": "code",
      "metadata": {
        "id": "HT9EUPCqUuGZ",
        "outputId": "bc36e30e-d8e6-4deb-bf96-4954b0f64624",
        "colab": {
          "base_uri": "https://localhost:8080/"
        }
      },
      "source": [
        "valor_por_sexo = planilha.groupby(['Sexo']).sum()['Valor']\n",
        "print(f'Clientes do sexo masculino compraram R$%.2f no total e R$%.2f em média' % (valor_por_sexo['Masculino'],valor_por_sexo['Masculino']/qtd_por_sexo['Masculino']))\n",
        "print(f'Clientes do sexo feminino compraram R$%.2f no total e R$%.2f em média' % (valor_por_sexo['Feminino'],valor_por_sexo['Feminino']/qtd_por_sexo['Feminino']))\n",
        "print(f'Clientes do sexo outros / não divulgado compraram R$%.2f no total e R$%.2f em média' % (valor_por_sexo['Outro / Não Divulgado'],valor_por_sexo['Outro / Não Divulgado']/qtd_por_sexo['Outro / Não Divulgado']))"
      ],
      "execution_count": 11,
      "outputs": [
        {
          "output_type": "stream",
          "text": [
            "Clientes do sexo masculino compraram R$1867.68 no total e R$2.95 em média\n",
            "Clientes do sexo feminino compraram R$382.91 no total e R$2.82 em média\n",
            "Clientes do sexo outros / não divulgado compraram R$35.74 no total e R$3.25 em média\n"
          ],
          "name": "stdout"
        }
      ]
    },
    {
      "cell_type": "code",
      "metadata": {
        "collapsed": true,
        "id": "WQE-RA96FpYg",
        "outputId": "7f721396-e8e7-4309-c67d-fc6528afd3f6",
        "colab": {
          "base_uri": "https://localhost:8080/"
        }
      },
      "source": [
        "qtd_faixa_jovens = planilha[planilha['Idade'] <= 19].groupby(['Sexo']).count()['Valor']\n",
        "qtd_faixa_adultos = planilha[planilha['Idade'].between(20,59)].groupby(['Sexo']).count()['Valor']\n",
        "print('Jovens (até 19):')\n",
        "print(f'Clientes jovens do sexo masculino compraram %d produtos' % qtd_faixa_jovens['Masculino'])\n",
        "print(f'Clientes jovens do sexo feminino compraram %d produtos' % qtd_faixa_jovens['Feminino'])\n",
        "print(f'Clientes jovens do sexo outros / não divulgado compraram %d produtos' % qtd_faixa_jovens['Outro / Não Divulgado'])\n",
        "print()\n",
        "print('Adultos (20 até 59):')\n",
        "print(f'Clientes adultos do sexo masculino compraram %d produtos' % qtd_faixa_adultos['Masculino'])\n",
        "print(f'Clientes adultos do sexo feminino compraram %d produtos' % qtd_faixa_adultos['Feminino'])\n",
        "print(f'Clientes adultos do sexo outros / não divulgado compraram %d produtos' % qtd_faixa_adultos['Outro / Não Divulgado'])\n",
        "print()\n",
        "print('Não há clientes idosos (Acima de 59)')"
      ],
      "execution_count": 12,
      "outputs": [
        {
          "output_type": "stream",
          "text": [
            "Jovens (até 19):\n",
            "Clientes jovens do sexo masculino compraram 156 produtos\n",
            "Clientes jovens do sexo feminino compraram 39 produtos\n",
            "Clientes jovens do sexo outros / não divulgado compraram 1 produtos\n",
            "\n",
            "Adultos (20 até 59):\n",
            "Clientes adultos do sexo masculino compraram 477 produtos\n",
            "Clientes adultos do sexo feminino compraram 97 produtos\n",
            "Clientes adultos do sexo outros / não divulgado compraram 10 produtos\n",
            "\n",
            "Não há clientes idosos (Acima de 59)\n"
          ],
          "name": "stdout"
        }
      ]
    },
    {
      "cell_type": "markdown",
      "metadata": {
        "id": "MFfKut54FpYh"
      },
      "source": [
        "## Consumidores Mais Populares (Top 5)"
      ]
    },
    {
      "cell_type": "code",
      "metadata": {
        "collapsed": true,
        "id": "zovJj-yiFpYh",
        "outputId": "565fd14d-9e91-4221-b3f8-6966fc71e383",
        "colab": {
          "base_uri": "https://localhost:8080/",
          "height": 204
        }
      },
      "source": [
        "top5_login = planilha.groupby('Login',as_index=False).sum().sort_values(by='Valor',ascending=False).head(5)[['Login','Valor']]\n",
        "top5_login_compras = planilha.groupby('Login',as_index=False).count()['Item ID']\n",
        "top5_login = top5_login.join(top5_login_compras).rename(columns={'Valor': 'Valor Total', 'Item ID': 'Total de Compras'})\n",
        "top5_login['Valor Médio'] = top5_login['Valor Total']/top5_login['Total de Compras']\n",
        "top5_login"
      ],
      "execution_count": 13,
      "outputs": [
        {
          "output_type": "execute_result",
          "data": {
            "text/html": [
              "<div>\n",
              "<style scoped>\n",
              "    .dataframe tbody tr th:only-of-type {\n",
              "        vertical-align: middle;\n",
              "    }\n",
              "\n",
              "    .dataframe tbody tr th {\n",
              "        vertical-align: top;\n",
              "    }\n",
              "\n",
              "    .dataframe thead th {\n",
              "        text-align: right;\n",
              "    }\n",
              "</style>\n",
              "<table border=\"1\" class=\"dataframe\">\n",
              "  <thead>\n",
              "    <tr style=\"text-align: right;\">\n",
              "      <th></th>\n",
              "      <th>Login</th>\n",
              "      <th>Valor Total</th>\n",
              "      <th>Total de Compras</th>\n",
              "      <th>Valor Médio</th>\n",
              "    </tr>\n",
              "  </thead>\n",
              "  <tbody>\n",
              "    <tr>\n",
              "      <th>538</th>\n",
              "      <td>Undirrala66</td>\n",
              "      <td>17.06</td>\n",
              "      <td>5</td>\n",
              "      <td>3.412000</td>\n",
              "    </tr>\n",
              "    <tr>\n",
              "      <th>428</th>\n",
              "      <td>Saedue76</td>\n",
              "      <td>13.56</td>\n",
              "      <td>4</td>\n",
              "      <td>3.390000</td>\n",
              "    </tr>\n",
              "    <tr>\n",
              "      <th>354</th>\n",
              "      <td>Mindimnya67</td>\n",
              "      <td>12.74</td>\n",
              "      <td>4</td>\n",
              "      <td>3.185000</td>\n",
              "    </tr>\n",
              "    <tr>\n",
              "      <th>181</th>\n",
              "      <td>Haellysu29</td>\n",
              "      <td>12.73</td>\n",
              "      <td>3</td>\n",
              "      <td>4.243333</td>\n",
              "    </tr>\n",
              "    <tr>\n",
              "      <th>120</th>\n",
              "      <td>Eoda93</td>\n",
              "      <td>11.58</td>\n",
              "      <td>3</td>\n",
              "      <td>3.860000</td>\n",
              "    </tr>\n",
              "  </tbody>\n",
              "</table>\n",
              "</div>"
            ],
            "text/plain": [
              "           Login  Valor Total  Total de Compras  Valor Médio\n",
              "538  Undirrala66        17.06                 5     3.412000\n",
              "428     Saedue76        13.56                 4     3.390000\n",
              "354  Mindimnya67        12.74                 4     3.185000\n",
              "181   Haellysu29        12.73                 3     4.243333\n",
              "120       Eoda93        11.58                 3     3.860000"
            ]
          },
          "metadata": {
            "tags": []
          },
          "execution_count": 13
        }
      ]
    },
    {
      "cell_type": "markdown",
      "metadata": {
        "id": "gpbilE4HFpYh"
      },
      "source": [
        "## Itens Mais Populares"
      ]
    },
    {
      "cell_type": "code",
      "metadata": {
        "collapsed": true,
        "id": "3FneEDlIFpYh",
        "outputId": "f48cdd4e-93c3-4586-c58b-3526d20960f8",
        "colab": {
          "base_uri": "https://localhost:8080/",
          "height": 204
        }
      },
      "source": [
        "top5_itens = planilha.groupby('Item ID').count()[['Login']].sort_values(by='Login',ascending=False).head(5).rename(columns={'Login': 'Número de Compras'})\n",
        "top5_itens = top5_itens.merge(top5_itens.merge(planilha, on='Item ID')[['Item ID','Nome do Item','Valor']].drop_duplicates().rename(columns={'Valor':'Valor Unitário'}),on='Item ID')\n",
        "top5_itens['Valor Total'] = top5_itens['Número de Compras']*top5_itens['Valor Unitário']\n",
        "top5_itens"
      ],
      "execution_count": 14,
      "outputs": [
        {
          "output_type": "execute_result",
          "data": {
            "text/html": [
              "<div>\n",
              "<style scoped>\n",
              "    .dataframe tbody tr th:only-of-type {\n",
              "        vertical-align: middle;\n",
              "    }\n",
              "\n",
              "    .dataframe tbody tr th {\n",
              "        vertical-align: top;\n",
              "    }\n",
              "\n",
              "    .dataframe thead th {\n",
              "        text-align: right;\n",
              "    }\n",
              "</style>\n",
              "<table border=\"1\" class=\"dataframe\">\n",
              "  <thead>\n",
              "    <tr style=\"text-align: right;\">\n",
              "      <th></th>\n",
              "      <th>Item ID</th>\n",
              "      <th>Número de Compras</th>\n",
              "      <th>Nome do Item</th>\n",
              "      <th>Valor Unitário</th>\n",
              "      <th>Valor Total</th>\n",
              "    </tr>\n",
              "  </thead>\n",
              "  <tbody>\n",
              "    <tr>\n",
              "      <th>0</th>\n",
              "      <td>39</td>\n",
              "      <td>11</td>\n",
              "      <td>Betrayal, Whisper of Grieving Widows</td>\n",
              "      <td>2.35</td>\n",
              "      <td>25.85</td>\n",
              "    </tr>\n",
              "    <tr>\n",
              "      <th>1</th>\n",
              "      <td>84</td>\n",
              "      <td>11</td>\n",
              "      <td>Arcane Gem</td>\n",
              "      <td>2.23</td>\n",
              "      <td>24.53</td>\n",
              "    </tr>\n",
              "    <tr>\n",
              "      <th>2</th>\n",
              "      <td>31</td>\n",
              "      <td>9</td>\n",
              "      <td>Trickster</td>\n",
              "      <td>2.07</td>\n",
              "      <td>18.63</td>\n",
              "    </tr>\n",
              "    <tr>\n",
              "      <th>3</th>\n",
              "      <td>175</td>\n",
              "      <td>9</td>\n",
              "      <td>Woeful Adamantite Claymore</td>\n",
              "      <td>1.24</td>\n",
              "      <td>11.16</td>\n",
              "    </tr>\n",
              "    <tr>\n",
              "      <th>4</th>\n",
              "      <td>13</td>\n",
              "      <td>9</td>\n",
              "      <td>Serenity</td>\n",
              "      <td>1.49</td>\n",
              "      <td>13.41</td>\n",
              "    </tr>\n",
              "  </tbody>\n",
              "</table>\n",
              "</div>"
            ],
            "text/plain": [
              "   Item ID  Número de Compras  ... Valor Unitário  Valor Total\n",
              "0       39                 11  ...           2.35        25.85\n",
              "1       84                 11  ...           2.23        24.53\n",
              "2       31                  9  ...           2.07        18.63\n",
              "3      175                  9  ...           1.24        11.16\n",
              "4       13                  9  ...           1.49        13.41\n",
              "\n",
              "[5 rows x 5 columns]"
            ]
          },
          "metadata": {
            "tags": []
          },
          "execution_count": 14
        }
      ]
    },
    {
      "cell_type": "markdown",
      "metadata": {
        "id": "sxTCf5gdFpYi"
      },
      "source": [
        "## Itens Mais Lucrativos"
      ]
    },
    {
      "cell_type": "code",
      "metadata": {
        "collapsed": true,
        "id": "CSM1LwKcFpYi",
        "outputId": "e3af59bd-681e-4d1e-94e0-a652c46a20d5",
        "colab": {
          "base_uri": "https://localhost:8080/",
          "height": 204
        }
      },
      "source": [
        "top5_lucro = planilha.groupby('Item ID').sum()[['Valor']].sort_values(by='Valor',ascending=False).head(5).rename(columns={'Valor':'Valor Total'})\n",
        "top5_lucro['Quantidade de Compras'] = top5_lucro.merge(planilha,on='Item ID').groupby('Item ID').count()['Login']\n",
        "top5_lucro.merge(planilha[['Item ID','Nome do Item','Valor']],on='Item ID').drop_duplicates().rename(columns={'Valor': 'Valor Unitário'})"
      ],
      "execution_count": 15,
      "outputs": [
        {
          "output_type": "execute_result",
          "data": {
            "text/html": [
              "<div>\n",
              "<style scoped>\n",
              "    .dataframe tbody tr th:only-of-type {\n",
              "        vertical-align: middle;\n",
              "    }\n",
              "\n",
              "    .dataframe tbody tr th {\n",
              "        vertical-align: top;\n",
              "    }\n",
              "\n",
              "    .dataframe thead th {\n",
              "        text-align: right;\n",
              "    }\n",
              "</style>\n",
              "<table border=\"1\" class=\"dataframe\">\n",
              "  <thead>\n",
              "    <tr style=\"text-align: right;\">\n",
              "      <th></th>\n",
              "      <th>Item ID</th>\n",
              "      <th>Valor Total</th>\n",
              "      <th>Quantidade de Compras</th>\n",
              "      <th>Nome do Item</th>\n",
              "      <th>Valor Unitário</th>\n",
              "    </tr>\n",
              "  </thead>\n",
              "  <tbody>\n",
              "    <tr>\n",
              "      <th>0</th>\n",
              "      <td>34</td>\n",
              "      <td>37.26</td>\n",
              "      <td>9</td>\n",
              "      <td>Retribution Axe</td>\n",
              "      <td>4.14</td>\n",
              "    </tr>\n",
              "    <tr>\n",
              "      <th>9</th>\n",
              "      <td>115</td>\n",
              "      <td>29.75</td>\n",
              "      <td>7</td>\n",
              "      <td>Spectral Diamond Doomblade</td>\n",
              "      <td>4.25</td>\n",
              "    </tr>\n",
              "    <tr>\n",
              "      <th>16</th>\n",
              "      <td>32</td>\n",
              "      <td>29.70</td>\n",
              "      <td>6</td>\n",
              "      <td>Orenmir</td>\n",
              "      <td>4.95</td>\n",
              "    </tr>\n",
              "    <tr>\n",
              "      <th>22</th>\n",
              "      <td>103</td>\n",
              "      <td>29.22</td>\n",
              "      <td>6</td>\n",
              "      <td>Singed Scalpel</td>\n",
              "      <td>4.87</td>\n",
              "    </tr>\n",
              "    <tr>\n",
              "      <th>28</th>\n",
              "      <td>107</td>\n",
              "      <td>28.88</td>\n",
              "      <td>8</td>\n",
              "      <td>Splitter, Foe Of Subtlety</td>\n",
              "      <td>3.61</td>\n",
              "    </tr>\n",
              "  </tbody>\n",
              "</table>\n",
              "</div>"
            ],
            "text/plain": [
              "    Item ID  Valor Total  ...                Nome do Item Valor Unitário\n",
              "0        34        37.26  ...             Retribution Axe           4.14\n",
              "9       115        29.75  ...  Spectral Diamond Doomblade           4.25\n",
              "16       32        29.70  ...                     Orenmir           4.95\n",
              "22      103        29.22  ...              Singed Scalpel           4.87\n",
              "28      107        28.88  ...   Splitter, Foe Of Subtlety           3.61\n",
              "\n",
              "[5 rows x 5 columns]"
            ]
          },
          "metadata": {
            "tags": []
          },
          "execution_count": 15
        }
      ]
    },
    {
      "cell_type": "markdown",
      "metadata": {
        "collapsed": true,
        "id": "i17hbldhFpYi"
      },
      "source": [
        "## Fim"
      ]
    }
  ]
}
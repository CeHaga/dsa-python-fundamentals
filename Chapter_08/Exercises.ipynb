{
  "nbformat": 4,
  "nbformat_minor": 0,
  "metadata": {
    "colab": {
      "name": "Exercicios_PythonDSA_Cap08.ipynb",
      "provenance": [],
      "toc_visible": true,
      "authorship_tag": "ABX9TyP2frc+N/htMQyirTIjMIrC",
      "include_colab_link": true
    },
    "kernelspec": {
      "name": "python3",
      "display_name": "Python 3"
    }
  },
  "cells": [
    {
      "cell_type": "markdown",
      "metadata": {
        "id": "view-in-github",
        "colab_type": "text"
      },
      "source": [
        "<a href=\"https://colab.research.google.com/github/CeHaga/dsa-python-chapter-8/blob/main/Exercicios_PythonDSA_Cap08.ipynb\" target=\"_parent\"><img src=\"https://colab.research.google.com/assets/colab-badge.svg\" alt=\"Open In Colab\"/></a>"
      ]
    },
    {
      "cell_type": "markdown",
      "metadata": {
        "id": "MDihJ2FbGC2c"
      },
      "source": [
        "# Exercises from Chapter 8 from Data Science Academy's course Python Fundamentals for Data Analysis\n",
        "\n",
        "https://github.com/dsacademybr/PythonFundamentos/blob/master/Cap08/Notebooks/DSA-Python-Cap08-Exercicios.ipynb"
      ]
    },
    {
      "cell_type": "code",
      "metadata": {
        "id": "R_MY0A5DC510"
      },
      "source": [
        "import pandas as pd\n",
        "import numpy as np"
      ],
      "execution_count": 2,
      "outputs": []
    },
    {
      "cell_type": "markdown",
      "metadata": {
        "id": "q_Acy12WCrns"
      },
      "source": [
        "##Exercício 1"
      ]
    },
    {
      "cell_type": "code",
      "metadata": {
        "id": "YHoxTniyCe4b"
      },
      "source": [
        "# Crie um array NumPy com 1000000 e uma lista com 1000000.\n",
        "# Multiplique cada elemento do array e da lista por 2 e calcule o tempo de execução com cada um dos objetos (use %time).\n",
        "# Qual objeto oferece melhor performance, array NumPy ou lista?\n",
        "\n",
        "arrayNumpy = np.ones(1000000)\n",
        "arrayPython = [1] * 1000000"
      ],
      "execution_count": 3,
      "outputs": []
    },
    {
      "cell_type": "code",
      "metadata": {
        "colab": {
          "base_uri": "https://localhost:8080/"
        },
        "id": "Nm_Nhb2YE8JQ",
        "outputId": "657ace20-0527-43ca-8c96-83555a00891c"
      },
      "source": [
        "%time\n",
        "map(lambda x: x*2, arrayPython)"
      ],
      "execution_count": 4,
      "outputs": [
        {
          "output_type": "stream",
          "text": [
            "CPU times: user 2 µs, sys: 1e+03 ns, total: 3 µs\n",
            "Wall time: 4.53 µs\n"
          ],
          "name": "stdout"
        },
        {
          "output_type": "execute_result",
          "data": {
            "text/plain": [
              "<map at 0x7f8a5c093c10>"
            ]
          },
          "metadata": {
            "tags": []
          },
          "execution_count": 4
        }
      ]
    },
    {
      "cell_type": "code",
      "metadata": {
        "colab": {
          "base_uri": "https://localhost:8080/"
        },
        "id": "d_1hP-juFKwP",
        "outputId": "cc75e5c0-226a-4ca0-ae67-60ed9e25fe36"
      },
      "source": [
        "%time\n",
        "map(lambda x: x*2, arrayNumpy)"
      ],
      "execution_count": 5,
      "outputs": [
        {
          "output_type": "stream",
          "text": [
            "CPU times: user 3 µs, sys: 1e+03 ns, total: 4 µs\n",
            "Wall time: 7.87 µs\n"
          ],
          "name": "stdout"
        },
        {
          "output_type": "execute_result",
          "data": {
            "text/plain": [
              "<map at 0x7f8a5c093cd0>"
            ]
          },
          "metadata": {
            "tags": []
          },
          "execution_count": 5
        }
      ]
    },
    {
      "cell_type": "markdown",
      "metadata": {
        "id": "ufvvfERlGzP3"
      },
      "source": [
        "##Exercício 2"
      ]
    },
    {
      "cell_type": "code",
      "metadata": {
        "colab": {
          "base_uri": "https://localhost:8080/"
        },
        "id": "atbkIKUpG1Hr",
        "outputId": "49da898c-2459-44b5-e2c1-c10011a95097"
      },
      "source": [
        "lista = np.ones(10)\n",
        "lista[5:9] = [0] * 4\n",
        "lista"
      ],
      "execution_count": 6,
      "outputs": [
        {
          "output_type": "execute_result",
          "data": {
            "text/plain": [
              "array([1., 1., 1., 1., 1., 0., 0., 0., 0., 1.])"
            ]
          },
          "metadata": {
            "tags": []
          },
          "execution_count": 6
        }
      ]
    },
    {
      "cell_type": "markdown",
      "metadata": {
        "id": "q6-vEb0jHRkI"
      },
      "source": [
        "##Exercício 3"
      ]
    },
    {
      "cell_type": "code",
      "metadata": {
        "colab": {
          "base_uri": "https://localhost:8080/"
        },
        "id": "aME8OiAVHSrR",
        "outputId": "3313dd27-4f27-4a3a-f120-1ed3259c6064"
      },
      "source": [
        "matriz = np.ones((1,1,1))\n",
        "matriz[0]"
      ],
      "execution_count": 11,
      "outputs": [
        {
          "output_type": "execute_result",
          "data": {
            "text/plain": [
              "array([[1.]])"
            ]
          },
          "metadata": {
            "tags": []
          },
          "execution_count": 11
        }
      ]
    },
    {
      "cell_type": "markdown",
      "metadata": {
        "id": "LFl2LKmnrDwb"
      },
      "source": [
        "## Exercício 4"
      ]
    },
    {
      "cell_type": "code",
      "metadata": {
        "colab": {
          "base_uri": "https://localhost:8080/"
        },
        "id": "7zOhAfKhrE_h",
        "outputId": "c3f63d62-1950-459c-e678-2ed97ee3e15d"
      },
      "source": [
        "matriz = np.random.rand(3,4)\n",
        "print('Matriz completa')\n",
        "print(matriz)\n",
        "print('\\nTerceira linha')\n",
        "print(matriz[2])\n",
        "print('\\nPrimeira e segunda linha')\n",
        "print(matriz[0])\n",
        "print(matriz[1])\n",
        "print('\\nSegunda e terceira coluna')\n",
        "print(matriz[:,1])\n",
        "print(matriz[:,2])"
      ],
      "execution_count": 70,
      "outputs": [
        {
          "output_type": "stream",
          "text": [
            "Matriz completa\n",
            "[[0.67271377 0.3255716  0.01849678 0.0844768 ]\n",
            " [0.2820107  0.2609695  0.71615347 0.05397227]\n",
            " [0.05499737 0.3873129  0.49033801 0.20258717]]\n",
            "\n",
            "Terceira linha\n",
            "[0.05499737 0.3873129  0.49033801 0.20258717]\n",
            "\n",
            "Primeira e segunda linha\n",
            "[0.67271377 0.3255716  0.01849678 0.0844768 ]\n",
            "[0.2820107  0.2609695  0.71615347 0.05397227]\n",
            "\n",
            "Segunda e terceira coluna\n",
            "[0.3255716 0.2609695 0.3873129]\n",
            "[0.01849678 0.71615347 0.49033801]\n"
          ],
          "name": "stdout"
        }
      ]
    },
    {
      "cell_type": "markdown",
      "metadata": {
        "id": "dPdFy-BhjzjE"
      },
      "source": [
        "## Exercício 5"
      ]
    },
    {
      "cell_type": "code",
      "metadata": {
        "colab": {
          "base_uri": "https://localhost:8080/"
        },
        "id": "Ho6qy4xQjzQA",
        "outputId": "e446cabc-18ae-49fe-c3de-846c45424ffc"
      },
      "source": [
        "arr = np.arange(15).reshape((3, 5))\n",
        "arr.transpose()"
      ],
      "execution_count": 13,
      "outputs": [
        {
          "output_type": "execute_result",
          "data": {
            "text/plain": [
              "array([[ 0,  5, 10],\n",
              "       [ 1,  6, 11],\n",
              "       [ 2,  7, 12],\n",
              "       [ 3,  8, 13],\n",
              "       [ 4,  9, 14]])"
            ]
          },
          "metadata": {
            "tags": []
          },
          "execution_count": 13
        }
      ]
    },
    {
      "cell_type": "markdown",
      "metadata": {
        "id": "mpyRgPMhkD3y"
      },
      "source": [
        "## Exercício 6"
      ]
    },
    {
      "cell_type": "code",
      "metadata": {
        "colab": {
          "base_uri": "https://localhost:8080/"
        },
        "id": "8ze1VTlpkE0p",
        "outputId": "f2801020-cd17-4ff8-e3e9-92e25fa2d302"
      },
      "source": [
        "xarr = np.array([1.1, 1.2, 1.3, 1.4, 1.5])\n",
        "yarr = np.array([2.1, 2.2, 2.3, 2.4, 2.5])\n",
        "cond = np.array([True, False, True, True, False])\n",
        "arrFinal = xarr\n",
        "arrFinal[~cond] = yarr[~cond]\n",
        "arrFinal"
      ],
      "execution_count": 21,
      "outputs": [
        {
          "output_type": "execute_result",
          "data": {
            "text/plain": [
              "array([1.1, 2.2, 1.3, 1.4, 2.5])"
            ]
          },
          "metadata": {
            "tags": []
          },
          "execution_count": 21
        }
      ]
    },
    {
      "cell_type": "markdown",
      "metadata": {
        "id": "isgH8V6pmbci"
      },
      "source": [
        "## Exercício 7"
      ]
    },
    {
      "cell_type": "code",
      "metadata": {
        "colab": {
          "base_uri": "https://localhost:8080/"
        },
        "id": "jIN2mh-4mcv2",
        "outputId": "a18ff61d-bc6a-4e79-dd28-0f99ba0a8ae2"
      },
      "source": [
        "with open('array.npy','wb') as f:\n",
        "  A = np.ones(10)\n",
        "  np.save(f,A)\n",
        "with open('array.npy','rb') as f:\n",
        "  B = np.load(f)\n",
        "  print(B)"
      ],
      "execution_count": 26,
      "outputs": [
        {
          "output_type": "stream",
          "text": [
            "[1. 1. 1. 1. 1. 1. 1. 1. 1. 1.]\n"
          ],
          "name": "stdout"
        }
      ]
    },
    {
      "cell_type": "markdown",
      "metadata": {
        "id": "3bzfpW2NnKyH"
      },
      "source": [
        "## Exercício 8"
      ]
    },
    {
      "cell_type": "code",
      "metadata": {
        "colab": {
          "base_uri": "https://localhost:8080/"
        },
        "id": "3zAQ8nhunMR2",
        "outputId": "f00f02c4-a53f-4b9d-b7e2-e02c8d879dbf"
      },
      "source": [
        "import pandas as pd\n",
        "obj = pd.Series(['c', 'a', 'd', 'a', 'a', 'b', 'b', 'c', 'c', 'a', 'b'])\n",
        "obj.unique()"
      ],
      "execution_count": 27,
      "outputs": [
        {
          "output_type": "execute_result",
          "data": {
            "text/plain": [
              "array(['c', 'a', 'd', 'b'], dtype=object)"
            ]
          },
          "metadata": {
            "tags": []
          },
          "execution_count": 27
        }
      ]
    },
    {
      "cell_type": "markdown",
      "metadata": {
        "id": "vIHuo871oTkD"
      },
      "source": [
        "## Exercício 9"
      ]
    },
    {
      "cell_type": "code",
      "metadata": {
        "colab": {
          "base_uri": "https://localhost:8080/",
          "height": 979
        },
        "id": "sEF5WClnoVNS",
        "outputId": "632f86d3-6b75-4d9d-97eb-c6c0953f0f6b"
      },
      "source": [
        "import requests\n",
        "import json\n",
        "url = 'https://api.github.com/repos/pandas-dev/pandas/issues'\n",
        "resp = requests.get(url)\n",
        "\n",
        "data = json.loads(resp.content)\n",
        "df = pd.json_normalize(data)\n",
        "df[['number','title','labels','state']]"
      ],
      "execution_count": 59,
      "outputs": [
        {
          "output_type": "execute_result",
          "data": {
            "text/html": [
              "<div>\n",
              "<style scoped>\n",
              "    .dataframe tbody tr th:only-of-type {\n",
              "        vertical-align: middle;\n",
              "    }\n",
              "\n",
              "    .dataframe tbody tr th {\n",
              "        vertical-align: top;\n",
              "    }\n",
              "\n",
              "    .dataframe thead th {\n",
              "        text-align: right;\n",
              "    }\n",
              "</style>\n",
              "<table border=\"1\" class=\"dataframe\">\n",
              "  <thead>\n",
              "    <tr style=\"text-align: right;\">\n",
              "      <th></th>\n",
              "      <th>number</th>\n",
              "      <th>title</th>\n",
              "      <th>labels</th>\n",
              "      <th>state</th>\n",
              "    </tr>\n",
              "  </thead>\n",
              "  <tbody>\n",
              "    <tr>\n",
              "      <th>0</th>\n",
              "      <td>40149</td>\n",
              "      <td>POC/REF: Back DTBlock/TDBlock directly by (som...</td>\n",
              "      <td>[]</td>\n",
              "      <td>open</td>\n",
              "    </tr>\n",
              "    <tr>\n",
              "      <th>1</th>\n",
              "      <td>40148</td>\n",
              "      <td>BUG: groupby drops string dtype</td>\n",
              "      <td>[{'id': 76811, 'node_id': 'MDU6TGFiZWw3NjgxMQ=...</td>\n",
              "      <td>open</td>\n",
              "    </tr>\n",
              "    <tr>\n",
              "      <th>2</th>\n",
              "      <td>40147</td>\n",
              "      <td>[ArrayManager] Ensure to store datetimelike da...</td>\n",
              "      <td>[{'id': 49094459, 'node_id': 'MDU6TGFiZWw0OTA5...</td>\n",
              "      <td>open</td>\n",
              "    </tr>\n",
              "    <tr>\n",
              "      <th>3</th>\n",
              "      <td>40146</td>\n",
              "      <td>BUG: Non-deterministic AttributeError exceptio...</td>\n",
              "      <td>[{'id': 76811, 'node_id': 'MDU6TGFiZWw3NjgxMQ=...</td>\n",
              "      <td>open</td>\n",
              "    </tr>\n",
              "    <tr>\n",
              "      <th>4</th>\n",
              "      <td>40145</td>\n",
              "      <td>BUG: Regression in PeriodIndex.loc string slic...</td>\n",
              "      <td>[{'id': 76811, 'node_id': 'MDU6TGFiZWw3NjgxMQ=...</td>\n",
              "      <td>open</td>\n",
              "    </tr>\n",
              "    <tr>\n",
              "      <th>5</th>\n",
              "      <td>40144</td>\n",
              "      <td>CI: failing numpy_dev 3.8 build</td>\n",
              "      <td>[{'id': 48070600, 'node_id': 'MDU6TGFiZWw0ODA3...</td>\n",
              "      <td>open</td>\n",
              "    </tr>\n",
              "    <tr>\n",
              "      <th>6</th>\n",
              "      <td>40143</td>\n",
              "      <td>REGR: reduction operations failing if `min_cou...</td>\n",
              "      <td>[{'id': 2365504383, 'node_id': 'MDU6TGFiZWwyMz...</td>\n",
              "      <td>open</td>\n",
              "    </tr>\n",
              "    <tr>\n",
              "      <th>7</th>\n",
              "      <td>40142</td>\n",
              "      <td>CI, TST enable branch coverage</td>\n",
              "      <td>[]</td>\n",
              "      <td>open</td>\n",
              "    </tr>\n",
              "    <tr>\n",
              "      <th>8</th>\n",
              "      <td>40141</td>\n",
              "      <td>REF: move Block.astype implementation to array...</td>\n",
              "      <td>[{'id': 31404521, 'node_id': 'MDU6TGFiZWwzMTQw...</td>\n",
              "      <td>open</td>\n",
              "    </tr>\n",
              "    <tr>\n",
              "      <th>9</th>\n",
              "      <td>40140</td>\n",
              "      <td>ENH: re-implement DataFrame.lookup.</td>\n",
              "      <td>[{'id': 76812, 'node_id': 'MDU6TGFiZWw3NjgxMg=...</td>\n",
              "      <td>open</td>\n",
              "    </tr>\n",
              "    <tr>\n",
              "      <th>10</th>\n",
              "      <td>40139</td>\n",
              "      <td>BUG:AttributeError: 'SeriesGroupBy' object has...</td>\n",
              "      <td>[{'id': 76811, 'node_id': 'MDU6TGFiZWw3NjgxMQ=...</td>\n",
              "      <td>open</td>\n",
              "    </tr>\n",
              "    <tr>\n",
              "      <th>11</th>\n",
              "      <td>40137</td>\n",
              "      <td>DOC: 1.2.3 release date</td>\n",
              "      <td>[{'id': 134699, 'node_id': 'MDU6TGFiZWwxMzQ2OT...</td>\n",
              "      <td>open</td>\n",
              "    </tr>\n",
              "    <tr>\n",
              "      <th>12</th>\n",
              "      <td>40135</td>\n",
              "      <td>WIP: ENH: Support ZoneInfo timezones</td>\n",
              "      <td>[]</td>\n",
              "      <td>open</td>\n",
              "    </tr>\n",
              "    <tr>\n",
              "      <th>13</th>\n",
              "      <td>40134</td>\n",
              "      <td>DEPR: `Styler.set_na_rep` and `.set_precision`...</td>\n",
              "      <td>[]</td>\n",
              "      <td>open</td>\n",
              "    </tr>\n",
              "    <tr>\n",
              "      <th>14</th>\n",
              "      <td>40131</td>\n",
              "      <td>Pandas IO XML Issue Tracker</td>\n",
              "      <td>[{'id': 76812, 'node_id': 'MDU6TGFiZWw3NjgxMg=...</td>\n",
              "      <td>open</td>\n",
              "    </tr>\n",
              "    <tr>\n",
              "      <th>15</th>\n",
              "      <td>40130</td>\n",
              "      <td>#39367 DOC: split contributing.rst</td>\n",
              "      <td>[]</td>\n",
              "      <td>open</td>\n",
              "    </tr>\n",
              "    <tr>\n",
              "      <th>16</th>\n",
              "      <td>40129</td>\n",
              "      <td>REF: share recarray constructor code</td>\n",
              "      <td>[{'id': 1465286368, 'node_id': 'MDU6TGFiZWwxND...</td>\n",
              "      <td>open</td>\n",
              "    </tr>\n",
              "    <tr>\n",
              "      <th>17</th>\n",
              "      <td>40127</td>\n",
              "      <td>BUG: Set dtypes of new columns when stacking (...</td>\n",
              "      <td>[]</td>\n",
              "      <td>open</td>\n",
              "    </tr>\n",
              "    <tr>\n",
              "      <th>18</th>\n",
              "      <td>40124</td>\n",
              "      <td>DEPR: `Styler.where` in favour of using `apply...</td>\n",
              "      <td>[{'id': 1741841389, 'node_id': 'MDU6TGFiZWwxNz...</td>\n",
              "      <td>open</td>\n",
              "    </tr>\n",
              "    <tr>\n",
              "      <th>19</th>\n",
              "      <td>40123</td>\n",
              "      <td>Performance regression in reindex.Fillna.time_...</td>\n",
              "      <td>[{'id': 1954720290, 'node_id': 'MDU6TGFiZWwxOT...</td>\n",
              "      <td>open</td>\n",
              "    </tr>\n",
              "    <tr>\n",
              "      <th>20</th>\n",
              "      <td>40122</td>\n",
              "      <td>Use tempfile for creating a file in home direc...</td>\n",
              "      <td>[{'id': 127685, 'node_id': 'MDU6TGFiZWwxMjc2OD...</td>\n",
              "      <td>open</td>\n",
              "    </tr>\n",
              "    <tr>\n",
              "      <th>21</th>\n",
              "      <td>40121</td>\n",
              "      <td>TYP: to_arrays, BUG: from_records empty dtypes</td>\n",
              "      <td>[{'id': 31404521, 'node_id': 'MDU6TGFiZWwzMTQw...</td>\n",
              "      <td>open</td>\n",
              "    </tr>\n",
              "    <tr>\n",
              "      <th>22</th>\n",
              "      <td>40115</td>\n",
              "      <td>BUG: index map leading to ValueError: Reindexi...</td>\n",
              "      <td>[{'id': 76811, 'node_id': 'MDU6TGFiZWw3NjgxMQ=...</td>\n",
              "      <td>open</td>\n",
              "    </tr>\n",
              "    <tr>\n",
              "      <th>23</th>\n",
              "      <td>40114</td>\n",
              "      <td>API: silent overflow in Series(bigints, dtype=...</td>\n",
              "      <td>[]</td>\n",
              "      <td>open</td>\n",
              "    </tr>\n",
              "    <tr>\n",
              "      <th>24</th>\n",
              "      <td>40113</td>\n",
              "      <td>CLN/TST: normalize test_frame_apply</td>\n",
              "      <td>[{'id': 697792067, 'node_id': 'MDU6TGFiZWw2OTc...</td>\n",
              "      <td>open</td>\n",
              "    </tr>\n",
              "    <tr>\n",
              "      <th>25</th>\n",
              "      <td>40112</td>\n",
              "      <td>API: Signature of UDF methods</td>\n",
              "      <td>[{'id': 1741841389, 'node_id': 'MDU6TGFiZWwxNz...</td>\n",
              "      <td>open</td>\n",
              "    </tr>\n",
              "    <tr>\n",
              "      <th>26</th>\n",
              "      <td>40111</td>\n",
              "      <td>API/BUG: partially-inferring datetimes</td>\n",
              "      <td>[{'id': 76811, 'node_id': 'MDU6TGFiZWw3NjgxMQ=...</td>\n",
              "      <td>open</td>\n",
              "    </tr>\n",
              "    <tr>\n",
              "      <th>27</th>\n",
              "      <td>40110</td>\n",
              "      <td>API/BUG: Series(floating, dtype=intlike) ignor...</td>\n",
              "      <td>[{'id': 76811, 'node_id': 'MDU6TGFiZWw3NjgxMQ=...</td>\n",
              "      <td>open</td>\n",
              "    </tr>\n",
              "    <tr>\n",
              "      <th>28</th>\n",
              "      <td>40103</td>\n",
              "      <td>API: make CachedAccessor public in addition to...</td>\n",
              "      <td>[{'id': 35818298, 'node_id': 'MDU6TGFiZWwzNTgx...</td>\n",
              "      <td>open</td>\n",
              "    </tr>\n",
              "    <tr>\n",
              "      <th>29</th>\n",
              "      <td>40101</td>\n",
              "      <td>DEPS: replace pyperclip with pyclip #39834</td>\n",
              "      <td>[{'id': 527603109, 'node_id': 'MDU6TGFiZWw1Mjc...</td>\n",
              "      <td>open</td>\n",
              "    </tr>\n",
              "  </tbody>\n",
              "</table>\n",
              "</div>"
            ],
            "text/plain": [
              "    number  ... state\n",
              "0    40149  ...  open\n",
              "1    40148  ...  open\n",
              "2    40147  ...  open\n",
              "3    40146  ...  open\n",
              "4    40145  ...  open\n",
              "5    40144  ...  open\n",
              "6    40143  ...  open\n",
              "7    40142  ...  open\n",
              "8    40141  ...  open\n",
              "9    40140  ...  open\n",
              "10   40139  ...  open\n",
              "11   40137  ...  open\n",
              "12   40135  ...  open\n",
              "13   40134  ...  open\n",
              "14   40131  ...  open\n",
              "15   40130  ...  open\n",
              "16   40129  ...  open\n",
              "17   40127  ...  open\n",
              "18   40124  ...  open\n",
              "19   40123  ...  open\n",
              "20   40122  ...  open\n",
              "21   40121  ...  open\n",
              "22   40115  ...  open\n",
              "23   40114  ...  open\n",
              "24   40113  ...  open\n",
              "25   40112  ...  open\n",
              "26   40111  ...  open\n",
              "27   40110  ...  open\n",
              "28   40103  ...  open\n",
              "29   40101  ...  open\n",
              "\n",
              "[30 rows x 4 columns]"
            ]
          },
          "metadata": {
            "tags": []
          },
          "execution_count": 59
        }
      ]
    },
    {
      "cell_type": "markdown",
      "metadata": {
        "id": "45oCfc3wsEsE"
      },
      "source": [
        "## Exercício 10"
      ]
    },
    {
      "cell_type": "code",
      "metadata": {
        "colab": {
          "base_uri": "https://localhost:8080/",
          "height": 111
        },
        "id": "NWRQKdhasFqE",
        "outputId": "7227416a-5a6f-4a1a-b7b8-f3d83bd1da29"
      },
      "source": [
        "import os\n",
        "os.remove('banco.bd') if os.path.exists('banco.bd') else None\n",
        "\n",
        "import sqlite3\n",
        "con = sqlite3.connect('banco.bd')\n",
        "cur = con.cursor()\n",
        "\n",
        "sql_create = 'create table pessoa('\\\n",
        "'id integer primary key autoincrement,'\\\n",
        "'nome varchar(50),'\\\n",
        "'idade integer);'\n",
        "cur.execute(sql_create)\n",
        "\n",
        "sql_insert = 'insert into pessoa(nome,idade) values (?,?)'\n",
        "pessoas = [('ABC',20),('DEF',50)]\n",
        "for pessoa in pessoas:\n",
        "  cur.execute(sql_insert,pessoa)\n",
        "\n",
        "df = pd.read_sql_query('select * from pessoa',con)\n",
        "df"
      ],
      "execution_count": 83,
      "outputs": [
        {
          "output_type": "execute_result",
          "data": {
            "text/html": [
              "<div>\n",
              "<style scoped>\n",
              "    .dataframe tbody tr th:only-of-type {\n",
              "        vertical-align: middle;\n",
              "    }\n",
              "\n",
              "    .dataframe tbody tr th {\n",
              "        vertical-align: top;\n",
              "    }\n",
              "\n",
              "    .dataframe thead th {\n",
              "        text-align: right;\n",
              "    }\n",
              "</style>\n",
              "<table border=\"1\" class=\"dataframe\">\n",
              "  <thead>\n",
              "    <tr style=\"text-align: right;\">\n",
              "      <th></th>\n",
              "      <th>id</th>\n",
              "      <th>nome</th>\n",
              "      <th>idade</th>\n",
              "    </tr>\n",
              "  </thead>\n",
              "  <tbody>\n",
              "    <tr>\n",
              "      <th>0</th>\n",
              "      <td>1</td>\n",
              "      <td>ABC</td>\n",
              "      <td>20</td>\n",
              "    </tr>\n",
              "    <tr>\n",
              "      <th>1</th>\n",
              "      <td>2</td>\n",
              "      <td>DEF</td>\n",
              "      <td>50</td>\n",
              "    </tr>\n",
              "  </tbody>\n",
              "</table>\n",
              "</div>"
            ],
            "text/plain": [
              "   id nome  idade\n",
              "0   1  ABC     20\n",
              "1   2  DEF     50"
            ]
          },
          "metadata": {
            "tags": []
          },
          "execution_count": 83
        }
      ]
    }
  ]
}
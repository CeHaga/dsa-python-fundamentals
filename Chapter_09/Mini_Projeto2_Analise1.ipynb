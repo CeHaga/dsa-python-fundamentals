{
  "nbformat": 4,
  "nbformat_minor": 0,
  "metadata": {
    "anaconda-cloud": {},
    "kernelspec": {
      "display_name": "Python 3",
      "language": "python",
      "name": "python3"
    },
    "language_info": {
      "codemirror_mode": {
        "name": "ipython",
        "version": 3
      },
      "file_extension": ".py",
      "mimetype": "text/x-python",
      "name": "python",
      "nbconvert_exporter": "python",
      "pygments_lexer": "ipython3",
      "version": "3.7.6"
    },
    "colab": {
      "name": "Mini-Projeto2 - Analise1.ipynb",
      "provenance": [],
      "toc_visible": true
    }
  },
  "cells": [
    {
      "cell_type": "markdown",
      "metadata": {
        "id": "dkbYz5C7Gk9J"
      },
      "source": [
        "# Chapter 9 - MiniProject 2 - Analysis 1\n",
        "\n",
        "First Analysis of chapter 9 of DSA's course"
      ]
    },
    {
      "cell_type": "code",
      "metadata": {
        "id": "IwvWK0HPGk9R"
      },
      "source": [
        "# Imports\n",
        "import pandas as pd\n",
        "import seaborn as sns\n",
        "import matplotlib.pyplot as plt\n",
        "sns.set(style = \"white\")\n",
        "%matplotlib inline"
      ],
      "execution_count": 1,
      "outputs": []
    },
    {
      "cell_type": "code",
      "metadata": {
        "colab": {
          "base_uri": "https://localhost:8080/",
          "height": 394
        },
        "id": "w_H-Gbd9Gk9T",
        "outputId": "991d83fa-564f-4a7e-9f85-3bd6c314b434"
      },
      "source": [
        "# Get Dataset from Drive\n",
        "url = 'https://drive.google.com/uc?export=download&id=1DvZzmN8ASp3LnZ3dgj2x4Xq0a3ZKX_ua'\n",
        "df = pd.read_csv(url,encoding = \"latin-1\")\n",
        "df.sample(5)"
      ],
      "execution_count": 2,
      "outputs": [
        {
          "output_type": "execute_result",
          "data": {
            "text/html": [
              "<div>\n",
              "<style scoped>\n",
              "    .dataframe tbody tr th:only-of-type {\n",
              "        vertical-align: middle;\n",
              "    }\n",
              "\n",
              "    .dataframe tbody tr th {\n",
              "        vertical-align: top;\n",
              "    }\n",
              "\n",
              "    .dataframe thead th {\n",
              "        text-align: right;\n",
              "    }\n",
              "</style>\n",
              "<table border=\"1\" class=\"dataframe\">\n",
              "  <thead>\n",
              "    <tr style=\"text-align: right;\">\n",
              "      <th></th>\n",
              "      <th>dateCrawled</th>\n",
              "      <th>name</th>\n",
              "      <th>seller</th>\n",
              "      <th>offerType</th>\n",
              "      <th>price</th>\n",
              "      <th>abtest</th>\n",
              "      <th>vehicleType</th>\n",
              "      <th>yearOfRegistration</th>\n",
              "      <th>gearbox</th>\n",
              "      <th>powerPS</th>\n",
              "      <th>model</th>\n",
              "      <th>kilometer</th>\n",
              "      <th>monthOfRegistration</th>\n",
              "      <th>fuelType</th>\n",
              "      <th>brand</th>\n",
              "      <th>notRepairedDamage</th>\n",
              "      <th>dateCreated</th>\n",
              "      <th>postalCode</th>\n",
              "      <th>lastSeen</th>\n",
              "      <th>yearOfCreation</th>\n",
              "      <th>yearCrawled</th>\n",
              "      <th>monthOfCreation</th>\n",
              "      <th>monthCrawled</th>\n",
              "      <th>NoOfDaysOnline</th>\n",
              "      <th>NoOfHrsOnline</th>\n",
              "      <th>yearsOld</th>\n",
              "      <th>monthsOld</th>\n",
              "    </tr>\n",
              "  </thead>\n",
              "  <tbody>\n",
              "    <tr>\n",
              "      <th>205331</th>\n",
              "      <td>2016-03-25 12:56:15</td>\n",
              "      <td>VW_Passat_3_BG______Zahnriemen_und_Kupplung_NEU</td>\n",
              "      <td>privat</td>\n",
              "      <td>Offer</td>\n",
              "      <td>3750</td>\n",
              "      <td>test</td>\n",
              "      <td>kombi</td>\n",
              "      <td>2003</td>\n",
              "      <td>manuell</td>\n",
              "      <td>130</td>\n",
              "      <td>passat</td>\n",
              "      <td>150000</td>\n",
              "      <td>Jul</td>\n",
              "      <td>Gasoline</td>\n",
              "      <td>volkswagen</td>\n",
              "      <td>No</td>\n",
              "      <td>2016-03-25 00:00:00</td>\n",
              "      <td>95326</td>\n",
              "      <td>2016-03-26 22:46:40</td>\n",
              "      <td>2016</td>\n",
              "      <td>2016</td>\n",
              "      <td>March</td>\n",
              "      <td>March</td>\n",
              "      <td>1</td>\n",
              "      <td>22</td>\n",
              "      <td>13</td>\n",
              "      <td>5</td>\n",
              "    </tr>\n",
              "    <tr>\n",
              "      <th>90741</th>\n",
              "      <td>2016-03-28 19:53:18</td>\n",
              "      <td>Volkswagen_caddy_67000_tkm</td>\n",
              "      <td>privat</td>\n",
              "      <td>Offer</td>\n",
              "      <td>7900</td>\n",
              "      <td>control</td>\n",
              "      <td>bus</td>\n",
              "      <td>2006</td>\n",
              "      <td>manuell</td>\n",
              "      <td>0</td>\n",
              "      <td>caddy</td>\n",
              "      <td>70000</td>\n",
              "      <td>Jul</td>\n",
              "      <td>Gasoline</td>\n",
              "      <td>volkswagen</td>\n",
              "      <td>No</td>\n",
              "      <td>2016-03-28 00:00:00</td>\n",
              "      <td>6124</td>\n",
              "      <td>2016-04-07 02:17:48</td>\n",
              "      <td>2016</td>\n",
              "      <td>2016</td>\n",
              "      <td>March</td>\n",
              "      <td>March</td>\n",
              "      <td>10</td>\n",
              "      <td>2</td>\n",
              "      <td>10</td>\n",
              "      <td>5</td>\n",
              "    </tr>\n",
              "    <tr>\n",
              "      <th>45519</th>\n",
              "      <td>2016-03-12 19:58:03</td>\n",
              "      <td>BMW_320i__70000_km</td>\n",
              "      <td>privat</td>\n",
              "      <td>Offer</td>\n",
              "      <td>7500</td>\n",
              "      <td>test</td>\n",
              "      <td>limousine</td>\n",
              "      <td>2006</td>\n",
              "      <td>manuell</td>\n",
              "      <td>150</td>\n",
              "      <td>Other</td>\n",
              "      <td>70000</td>\n",
              "      <td>Nov</td>\n",
              "      <td>Other</td>\n",
              "      <td>bmw</td>\n",
              "      <td>No</td>\n",
              "      <td>2016-03-12 00:00:00</td>\n",
              "      <td>45356</td>\n",
              "      <td>2016-03-17 01:16:37</td>\n",
              "      <td>2016</td>\n",
              "      <td>2016</td>\n",
              "      <td>March</td>\n",
              "      <td>March</td>\n",
              "      <td>5</td>\n",
              "      <td>1</td>\n",
              "      <td>10</td>\n",
              "      <td>1</td>\n",
              "    </tr>\n",
              "    <tr>\n",
              "      <th>120604</th>\n",
              "      <td>2016-03-07 18:57:23</td>\n",
              "      <td>Opel_Corsa_1.2</td>\n",
              "      <td>privat</td>\n",
              "      <td>Offer</td>\n",
              "      <td>333</td>\n",
              "      <td>control</td>\n",
              "      <td>kleinwagen</td>\n",
              "      <td>1994</td>\n",
              "      <td>manuell</td>\n",
              "      <td>45</td>\n",
              "      <td>corsa</td>\n",
              "      <td>150000</td>\n",
              "      <td>Nov</td>\n",
              "      <td>Gasoline</td>\n",
              "      <td>opel</td>\n",
              "      <td>No</td>\n",
              "      <td>2016-03-07 00:00:00</td>\n",
              "      <td>48599</td>\n",
              "      <td>2016-03-12 16:20:01</td>\n",
              "      <td>2016</td>\n",
              "      <td>2016</td>\n",
              "      <td>March</td>\n",
              "      <td>March</td>\n",
              "      <td>5</td>\n",
              "      <td>16</td>\n",
              "      <td>22</td>\n",
              "      <td>1</td>\n",
              "    </tr>\n",
              "    <tr>\n",
              "      <th>10937</th>\n",
              "      <td>2016-03-20 12:37:23</td>\n",
              "      <td>Peugeot_206_CC_110</td>\n",
              "      <td>privat</td>\n",
              "      <td>Offer</td>\n",
              "      <td>2700</td>\n",
              "      <td>test</td>\n",
              "      <td>cabrio</td>\n",
              "      <td>2004</td>\n",
              "      <td>manuell</td>\n",
              "      <td>109</td>\n",
              "      <td>2_reihe</td>\n",
              "      <td>150000</td>\n",
              "      <td>Apr</td>\n",
              "      <td>Gasoline</td>\n",
              "      <td>peugeot</td>\n",
              "      <td>No</td>\n",
              "      <td>2016-03-20 00:00:00</td>\n",
              "      <td>54343</td>\n",
              "      <td>2016-03-31 17:47:35</td>\n",
              "      <td>2016</td>\n",
              "      <td>2016</td>\n",
              "      <td>March</td>\n",
              "      <td>March</td>\n",
              "      <td>11</td>\n",
              "      <td>17</td>\n",
              "      <td>12</td>\n",
              "      <td>8</td>\n",
              "    </tr>\n",
              "  </tbody>\n",
              "</table>\n",
              "</div>"
            ],
            "text/plain": [
              "                dateCrawled  ... monthsOld\n",
              "205331  2016-03-25 12:56:15  ...         5\n",
              "90741   2016-03-28 19:53:18  ...         5\n",
              "45519   2016-03-12 19:58:03  ...         1\n",
              "120604  2016-03-07 18:57:23  ...         1\n",
              "10937   2016-03-20 12:37:23  ...         8\n",
              "\n",
              "[5 rows x 27 columns]"
            ]
          },
          "metadata": {
            "tags": []
          },
          "execution_count": 2
        }
      ]
    },
    {
      "cell_type": "markdown",
      "metadata": {
        "id": "mPA8uczOGk9T"
      },
      "source": [
        "## Distribuição de Veículos com base no Ano de Registro"
      ]
    },
    {
      "cell_type": "code",
      "metadata": {
        "colab": {
          "base_uri": "https://localhost:8080/",
          "height": 301
        },
        "id": "ojKQB36aGk9U",
        "outputId": "bf78f682-494c-472e-be41-85bc8585d2f3"
      },
      "source": [
        "# Crie um Plot com a Distribuição de Veículos com base no Ano de Registro\n",
        "sns.histplot(data=df, x='yearOfRegistration', bins=50, kde=True, stat='density')\n",
        "plt.title('Distribuição de Veículos com Base no Ano de Registro')\n",
        "plt.xlabel('Ano de Registro')\n",
        "plt.ylabel('Densidade (KDE)')\n",
        "plt.show()"
      ],
      "execution_count": 3,
      "outputs": [
        {
          "output_type": "display_data",
          "data": {
            "image/png": "[encoded data removed]",
            "text/plain": [
              "<Figure size 432x288 with 1 Axes>"
            ]
          },
          "metadata": {
            "tags": [],
            "needs_background": "light"
          }
        }
      ]
    },
    {
      "cell_type": "markdown",
      "metadata": {
        "id": "b1UhG7PNGk9W"
      },
      "source": [
        "## Variação da faixa de preço pelo tipo de veículo"
      ]
    },
    {
      "cell_type": "code",
      "metadata": {
        "colab": {
          "base_uri": "https://localhost:8080/",
          "height": 518
        },
        "id": "THQl11LUGk9W",
        "outputId": "6307b93b-1ef8-4f8b-f1df-3c0f61d0cc8b"
      },
      "source": [
        "# Crie um Boxplot para avaliar os outliers\n",
        "sns.set(rc={'figure.figsize':(12,8)})\n",
        "sns.boxplot(data=df, x='vehicleType', y='price')\n",
        "plt.xlabel('Tipo de Veículo')\n",
        "plt.ylabel('Preço')\n",
        "plt.title('Análise de Outliers')\n",
        "plt.show()"
      ],
      "execution_count": 4,
      "outputs": [
        {
          "output_type": "display_data",
          "data": {
            "image/png": "[encoded data removed]",
            "text/plain": [
              "<Figure size 864x576 with 1 Axes>"
            ]
          },
          "metadata": {
            "tags": []
          }
        }
      ]
    },
    {
      "cell_type": "markdown",
      "metadata": {
        "id": "S4FqUZJbGk9X"
      },
      "source": [
        "## Contagem total de veículos à venda conforme o tipo de veículo"
      ]
    },
    {
      "cell_type": "code",
      "metadata": {
        "colab": {
          "base_uri": "https://localhost:8080/",
          "height": 398
        },
        "id": "2a5hRvtWGk9X",
        "outputId": "3c6dab30-93ec-4f94-ad26-4092a8438f88"
      },
      "source": [
        "# Crie um Count Plot que mostre o número de veículos pertencentes a cada categoria \n",
        "sns.catplot(data=df, x='vehicleType', kind='count',aspect=2, palette='colorblind')\n",
        "plt.xlabel('Tipo de Veículo')\n",
        "plt.ylabel('Total de Veículos')\n",
        "plt.title('Veículos à venda por tipo')\n",
        "plt.show()"
      ],
      "execution_count": 5,
      "outputs": [
        {
          "output_type": "display_data",
          "data": {
            "image/png": "[encoded data removed]",
            "text/plain": [
              "<Figure size 720x360 with 1 Axes>"
            ]
          },
          "metadata": {
            "tags": []
          }
        }
      ]
    },
    {
      "cell_type": "markdown",
      "metadata": {
        "collapsed": true,
        "id": "JcV5TQ2cGk9Y"
      },
      "source": [
        "\n",
        "\n",
        "---\n",
        "\n",
        "\n",
        "## Credits\n",
        "\n",
        "Made by Carlos Bravo\n",
        "\n",
        "GitHub: https://github.com/CeHaga\n",
        "\n",
        "Telegram: @CeHaga"
      ]
    }
  ]
}